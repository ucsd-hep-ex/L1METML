{
 "cells": [
  {
   "cell_type": "code",
   "execution_count": 1,
   "id": "9508d720",
   "metadata": {},
   "outputs": [],
   "source": [
    "import h5py\n",
    "import numpy as np\n",
    "from sklearn.model_selection import train_test_split"
   ]
  },
  {
   "cell_type": "code",
   "execution_count": 2,
   "id": "bd4560ae",
   "metadata": {},
   "outputs": [],
   "source": [
    "def split_h5_file(\n",
    "    input_dir,\n",
    "    input_file_name,\n",
    "    output_dir,\n",
    "    test_size=0.2,\n",
    "    valid_size=0.2,\n",
    "    random_state=42,\n",
    "):\n",
    "    \"\"\"\n",
    "    Splits a single HDF5 file into train, validation, and test sets.\n",
    "\n",
    "    Args:\n",
    "        input_file (str): Path to the input HDF5 file.\n",
    "        output_dir (str): Directory to save the output HDF5 files.\n",
    "        test_size (float): Proportion of the data to use for the test set.\n",
    "        valid_size (float): Proportion of the remaining data to use for the validation set.\n",
    "        random_state (int): Random seed for reproducibility.\n",
    "    \"\"\"\n",
    "    # Open the input HDF5 file\n",
    "    input_file = f\"{input_dir}/{input_file_name}.h5\"\n",
    "    with h5py.File(input_file, \"r\") as f:\n",
    "        X = f[\"X\"][:]\n",
    "        Y = f[\"Y\"][:]\n",
    "\n",
    "    # Split into train + temp (valid + test)\n",
    "    X_train, X_temp, Y_train, Y_temp = train_test_split(\n",
    "        X, Y, test_size=(test_size + valid_size), random_state=random_state\n",
    "    )\n",
    "\n",
    "    # Split temp into validation and test sets\n",
    "    valid_ratio = valid_size / (\n",
    "        test_size + valid_size\n",
    "    )  # Adjust validation size relative to temp\n",
    "    X_valid, X_test, Y_valid, Y_test = train_test_split(\n",
    "        X_temp, Y_temp, test_size=(1 - valid_ratio), random_state=random_state\n",
    "    )\n",
    "\n",
    "    # Save the splits into separate HDF5 files\n",
    "    train_file = f\"{output_dir}/{input_file_name}_train.h5\"\n",
    "    valid_file = f\"{output_dir}/{input_file_name}_valid.h5\"\n",
    "    test_file = f\"{output_dir}/{input_file_name}_test.h5\"\n",
    "\n",
    "    with h5py.File(train_file, \"w\") as f_train:\n",
    "        f_train.create_dataset(\"X\", data=X_train)\n",
    "        f_train.create_dataset(\"Y\", data=Y_train)\n",
    "\n",
    "    with h5py.File(valid_file, \"w\") as f_valid:\n",
    "        f_valid.create_dataset(\"X\", data=X_valid)\n",
    "        f_valid.create_dataset(\"Y\", data=Y_valid)\n",
    "\n",
    "    with h5py.File(test_file, \"w\") as f_test:\n",
    "        f_test.create_dataset(\"X\", data=X_test)\n",
    "        f_test.create_dataset(\"Y\", data=Y_test)\n",
    "\n",
    "    print(\n",
    "        f\"Data successfully split and saved to:\\n  Train: {train_file}\\n  Validation: {valid_file}\\n  Test: {test_file}\"\n",
    "    )"
   ]
  },
  {
   "cell_type": "code",
   "execution_count": 3,
   "id": "9097e1b1",
   "metadata": {},
   "outputs": [
    {
     "name": "stdout",
     "output_type": "stream",
     "text": [
      "Data successfully split and saved to:\n",
      "  Train: /ceph/cms/store/user/dprimosc/l1deepmet_data/25May15_140X_v0/140X_v0_train//perfNano_TT_PU200_train.h5\n",
      "  Validation: /ceph/cms/store/user/dprimosc/l1deepmet_data/25May15_140X_v0/140X_v0_train//perfNano_TT_PU200_valid.h5\n",
      "  Test: /ceph/cms/store/user/dprimosc/l1deepmet_data/25May15_140X_v0/140X_v0_train//perfNano_TT_PU200_test.h5\n"
     ]
    }
   ],
   "source": [
    "input_dir = (\n",
    "    \"/ceph/cms/store/user/dprimosc/l1deepmet_data/25May15_140X_v0/140X_v0_train/\"\n",
    ")\n",
    "input_file_name = \"perfNano_TT_PU200\"\n",
    "output_dir = input_dir  # Replace with your desired output directory\n",
    "split_h5_file(input_dir, input_file_name, output_dir)"
   ]
  }
 ],
 "metadata": {
  "kernelspec": {
   "display_name": "l1metml",
   "language": "python",
   "name": "python3"
  },
  "language_info": {
   "codemirror_mode": {
    "name": "ipython",
    "version": 3
   },
   "file_extension": ".py",
   "mimetype": "text/x-python",
   "name": "python",
   "nbconvert_exporter": "python",
   "pygments_lexer": "ipython3",
   "version": "3.9.20"
  }
 },
 "nbformat": 4,
 "nbformat_minor": 5
}
