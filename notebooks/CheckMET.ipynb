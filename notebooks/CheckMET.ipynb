{
 "cells": [
  {
   "cell_type": "code",
   "execution_count": 4,
   "id": "bb0fd343",
   "metadata": {},
   "outputs": [
    {
     "name": "stdout",
     "output_type": "stream",
     "text": [
      "['run', 'luminosityBlock', 'event', 'nL1PFCands', 'L1PFCands_pt', 'L1PFCands_eta', 'L1PFCands_phi', 'L1PFCands_mass', 'L1PFCands_charge', 'L1PFCands_pdgId', 'L1PFCands_puppiWeight', 'nL1PuppiCands', 'L1PuppiCands_pt', 'L1PuppiCands_eta', 'L1PuppiCands_phi', 'L1PuppiCands_mass', 'L1PuppiCands_charge', 'L1PuppiCands_pdgId', 'L1PuppiCands_puppiWeight', 'nGenJets', 'GenJets_pt', 'GenJets_eta', 'GenJets_phi', 'GenJets_mass', 'nL1CaloJets', 'L1CaloJets_pt', 'L1CaloJets_eta', 'L1CaloJets_phi', 'L1CaloJets_mass', 'L1CaloJets_genpt', 'L1CaloJets_gendr', 'nL1PFJets', 'L1PFJets_pt', 'L1PFJets_eta', 'L1PFJets_phi', 'L1PFJets_mass', 'L1PFJets_genpt', 'L1PFJets_gendr', 'nL1PuppiJets', 'L1PuppiJets_pt', 'L1PuppiJets_eta', 'L1PuppiJets_phi', 'L1PuppiJets_mass', 'L1PuppiJets_genpt', 'L1PuppiJets_gendr', 'nL1TKJets', 'L1TKJets_pt', 'L1TKJets_eta', 'L1TKJets_phi', 'L1TKJets_mass', 'L1TKJets_genpt', 'L1TKJets_gendr', 'L1CaloMetCentral_pt', 'L1CaloMetCentral_phi', 'L1CaloMetCentral_para', 'L1CaloMetCentral_perp', 'L1PFMetCentral_pt', 'L1PFMetCentral_phi', 'L1PFMetCentral_para', 'L1PFMetCentral_perp', 'L1PuppiMetCentral_pt', 'L1PuppiMetCentral_phi', 'L1PuppiMetCentral_para', 'L1PuppiMetCentral_perp', 'L1TKMetCentral_pt', 'L1TKMetCentral_phi', 'L1TKMetCentral_para', 'L1TKMetCentral_perp', 'genMetCentral_pt', 'genMetCentral_phi', 'L1CaloMet_pt', 'L1CaloMet_phi', 'L1CaloMet_para', 'L1CaloMet_perp', 'L1PFMet_pt', 'L1PFMet_phi', 'L1PFMet_para', 'L1PFMet_perp', 'L1PuppiMet_pt', 'L1PuppiMet_phi', 'L1PuppiMet_para', 'L1PuppiMet_perp', 'L1TKMet_pt', 'L1TKMet_phi', 'L1TKMet_para', 'L1TKMet_perp', 'genMet_pt', 'genMet_phi']\n",
      "[795, 546, 710, 57.9, 1.31e+03, 739, ..., 197, 678, 978, 474, 591, 1.02e+03]\n",
      "[0.827, 0.741, -2.83, -1.46, -0.31, 1.08, ..., 2.37, 2.52, 1.36, -1.04, -0.158]\n"
     ]
    }
   ],
   "source": [
    "import uproot\n",
    "\n",
    "file = uproot.open(\n",
    "    \"../../data/l1_trigger_ntuples/perfNano_SMS_T1tttt_mGluino-2100_mLSP-400_PU200.110X_v2.root\"\n",
    ")\n",
    "\n",
    "tree = file[\"Events\"]\n",
    "print(tree.keys())\n",
    "print(tree[\"genMet_pt\"].array())\n",
    "print(tree[\"genMet_phi\"].array())"
   ]
  },
  {
   "cell_type": "code",
   "execution_count": null,
   "id": "8e84193a",
   "metadata": {},
   "outputs": [],
   "source": []
  }
 ],
 "metadata": {
  "kernelspec": {
   "display_name": "l1metml",
   "language": "python",
   "name": "python3"
  },
  "language_info": {
   "codemirror_mode": {
    "name": "ipython",
    "version": 3
   },
   "file_extension": ".py",
   "mimetype": "text/x-python",
   "name": "python",
   "nbconvert_exporter": "python",
   "pygments_lexer": "ipython3",
   "version": "3.9.20"
  }
 },
 "nbformat": 4,
 "nbformat_minor": 5
}
