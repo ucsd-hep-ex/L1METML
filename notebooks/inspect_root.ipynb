{
 "cells": [
  {
   "cell_type": "code",
   "execution_count": 1,
   "metadata": {},
   "outputs": [],
   "source": [
    "import glob\n",
    "import uproot"
   ]
  },
  {
   "cell_type": "code",
   "execution_count": 2,
   "metadata": {},
   "outputs": [],
   "source": [
    "# directory = \"/home/users/dprimosc/L1METML/CMSSW_14_0_0_pre3/src/FastPUPPI/NtupleProducer/python\"\n",
    "# filename = f\"{directory}/perfNano.root\"\n",
    "directory = \"/ceph/cms/store/user/dprimosc/l1deepmet_data/25May15_140X_v0\"\n",
    "filename = f\"{directory}/perfTuple_VBFHToBB_PU200.root\""
   ]
  },
  {
   "cell_type": "code",
   "execution_count": 3,
   "metadata": {},
   "outputs": [
    {
     "name": "stdout",
     "output_type": "stream",
     "text": [
      "ntuple;1 (TDirectory)\n",
      "ntuple;1/tree;1 (TTree)\n",
      "Number of events in tree 'ntuple;1/tree;1': 93760\n",
      "  Branch 'run' in TTree 'ntuple;1/tree;1'\n",
      "  Branch 'lumi' in TTree 'ntuple;1/tree;1'\n",
      "  Branch 'event' in TTree 'ntuple;1/tree;1'\n",
      "  Branch 'mc_pt' in TTree 'ntuple;1/tree;1'\n",
      "  Branch 'mc_eta' in TTree 'ntuple;1/tree;1'\n",
      "  Branch 'mc_phi' in TTree 'ntuple;1/tree;1'\n",
      "  Branch 'mc_id' in TTree 'ntuple;1/tree;1'\n",
      "  Branch 'ChGenAcc_pt' in TTree 'ntuple;1/tree;1'\n",
      "  Branch 'GenAcc_pt' in TTree 'ntuple;1/tree;1'\n",
      "  Branch 'L1Calo_pt' in TTree 'ntuple;1/tree;1'\n",
      "  Branch 'L1CaloCharged_pt' in TTree 'ntuple;1/tree;1'\n",
      "  Branch 'L1CaloNeutral_pt' in TTree 'ntuple;1/tree;1'\n",
      "  Branch 'L1CaloNeutralHad_pt' in TTree 'ntuple;1/tree;1'\n",
      "  Branch 'L1CaloPhoton_pt' in TTree 'ntuple;1/tree;1'\n",
      "  Branch 'L1PF_pt' in TTree 'ntuple;1/tree;1'\n",
      "  Branch 'L1PFCharged_pt' in TTree 'ntuple;1/tree;1'\n",
      "  Branch 'L1PFNeutral_pt' in TTree 'ntuple;1/tree;1'\n",
      "  Branch 'L1PFNeutralHad_pt' in TTree 'ntuple;1/tree;1'\n",
      "  Branch 'L1PFPhoton_pt' in TTree 'ntuple;1/tree;1'\n",
      "  Branch 'L1Puppi_pt' in TTree 'ntuple;1/tree;1'\n",
      "  Branch 'L1PuppiCharged_pt' in TTree 'ntuple;1/tree;1'\n",
      "  Branch 'L1PuppiNeutral_pt' in TTree 'ntuple;1/tree;1'\n",
      "  Branch 'L1PuppiNeutralHad_pt' in TTree 'ntuple;1/tree;1'\n",
      "  Branch 'L1PuppiPhoton_pt' in TTree 'ntuple;1/tree;1'\n",
      "  Branch 'L1TK_pt' in TTree 'ntuple;1/tree;1'\n",
      "  Branch 'L1TKCharged_pt' in TTree 'ntuple;1/tree;1'\n",
      "  Branch 'L1TKNeutral_pt' in TTree 'ntuple;1/tree;1'\n",
      "  Branch 'L1TKNeutralHad_pt' in TTree 'ntuple;1/tree;1'\n",
      "  Branch 'L1TKPhoton_pt' in TTree 'ntuple;1/tree;1'\n",
      "  Branch 'PhGenAcc_pt' in TTree 'ntuple;1/tree;1'\n",
      "  Branch 'RawTK_pt' in TTree 'ntuple;1/tree;1'\n",
      "ntuple/tree;1 (TTree)\n",
      "Number of events in tree 'ntuple/tree;1': 93760\n",
      "  Branch 'run' in TTree 'ntuple/tree;1'\n",
      "  Branch 'lumi' in TTree 'ntuple/tree;1'\n",
      "  Branch 'event' in TTree 'ntuple/tree;1'\n",
      "  Branch 'mc_pt' in TTree 'ntuple/tree;1'\n",
      "  Branch 'mc_eta' in TTree 'ntuple/tree;1'\n",
      "  Branch 'mc_phi' in TTree 'ntuple/tree;1'\n",
      "  Branch 'mc_id' in TTree 'ntuple/tree;1'\n",
      "  Branch 'ChGenAcc_pt' in TTree 'ntuple/tree;1'\n",
      "  Branch 'GenAcc_pt' in TTree 'ntuple/tree;1'\n",
      "  Branch 'L1Calo_pt' in TTree 'ntuple/tree;1'\n",
      "  Branch 'L1CaloCharged_pt' in TTree 'ntuple/tree;1'\n",
      "  Branch 'L1CaloNeutral_pt' in TTree 'ntuple/tree;1'\n",
      "  Branch 'L1CaloNeutralHad_pt' in TTree 'ntuple/tree;1'\n",
      "  Branch 'L1CaloPhoton_pt' in TTree 'ntuple/tree;1'\n",
      "  Branch 'L1PF_pt' in TTree 'ntuple/tree;1'\n",
      "  Branch 'L1PFCharged_pt' in TTree 'ntuple/tree;1'\n",
      "  Branch 'L1PFNeutral_pt' in TTree 'ntuple/tree;1'\n",
      "  Branch 'L1PFNeutralHad_pt' in TTree 'ntuple/tree;1'\n",
      "  Branch 'L1PFPhoton_pt' in TTree 'ntuple/tree;1'\n",
      "  Branch 'L1Puppi_pt' in TTree 'ntuple/tree;1'\n",
      "  Branch 'L1PuppiCharged_pt' in TTree 'ntuple/tree;1'\n",
      "  Branch 'L1PuppiNeutral_pt' in TTree 'ntuple/tree;1'\n",
      "  Branch 'L1PuppiNeutralHad_pt' in TTree 'ntuple/tree;1'\n",
      "  Branch 'L1PuppiPhoton_pt' in TTree 'ntuple/tree;1'\n",
      "  Branch 'L1TK_pt' in TTree 'ntuple/tree;1'\n",
      "  Branch 'L1TKCharged_pt' in TTree 'ntuple/tree;1'\n",
      "  Branch 'L1TKNeutral_pt' in TTree 'ntuple/tree;1'\n",
      "  Branch 'L1TKNeutralHad_pt' in TTree 'ntuple/tree;1'\n",
      "  Branch 'L1TKPhoton_pt' in TTree 'ntuple/tree;1'\n",
      "  Branch 'PhGenAcc_pt' in TTree 'ntuple/tree;1'\n",
      "  Branch 'RawTK_pt' in TTree 'ntuple/tree;1'\n"
     ]
    }
   ],
   "source": [
    "def explore(obj, prefix=\"\"):\n",
    "    for key in obj.keys():\n",
    "        full_key = f\"{prefix}/{key}\" if prefix else key\n",
    "        classname = obj.classname_of(key)\n",
    "        print(f\"{full_key} ({classname})\")\n",
    "\n",
    "        if classname.startswith(\"TDirectory\"):\n",
    "            # Recursively explore subdirectories\n",
    "            explore(obj[key], prefix=full_key)\n",
    "\n",
    "        elif classname == \"TTree\":\n",
    "            tree = obj[key]\n",
    "            num_events = tree.num_entries\n",
    "            print(f\"Number of events in tree '{full_key}': {num_events}\")\n",
    "\n",
    "            # Now list branches in this TTree\n",
    "            branch_names = tree.keys()  # each branch name in the TTree\n",
    "            for bname in branch_names:\n",
    "                print(f\"  Branch '{bname}' in TTree '{full_key}'\")\n",
    "\n",
    "\n",
    "with uproot.open(filename) as file:\n",
    "    explore(file)"
   ]
  },
  {
   "cell_type": "code",
   "execution_count": null,
   "metadata": {},
   "outputs": [],
   "source": []
  }
 ],
 "metadata": {
  "kernelspec": {
   "display_name": "l1metml",
   "language": "python",
   "name": "python3"
  },
  "language_info": {
   "codemirror_mode": {
    "name": "ipython",
    "version": 3
   },
   "file_extension": ".py",
   "mimetype": "text/x-python",
   "name": "python",
   "nbconvert_exporter": "python",
   "pygments_lexer": "ipython3",
   "version": "3.9.20"
  }
 },
 "nbformat": 4,
 "nbformat_minor": 2
}
